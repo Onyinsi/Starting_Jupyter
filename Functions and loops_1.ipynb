{
 "cells": [
  {
   "cell_type": "code",
   "execution_count": 4,
   "id": "0989bca3",
   "metadata": {},
   "outputs": [
    {
     "name": "stdout",
     "output_type": "stream",
     "text": [
      "5.0 to the power of 2 = 25.0\n"
     ]
    }
   ],
   "source": [
    "base = float(input(\"Enter a base: \"))\n",
    "exponent = int(input(\"Enter an exponent: \"))\n",
    "print(\"{} to the power of {} =\".format(base,exponent),(base)** (exponent))"
   ]
  },
  {
   "cell_type": "code",
   "execution_count": null,
   "id": "58fa105a",
   "metadata": {},
   "outputs": [
    {
     "name": "stdout",
     "output_type": "stream",
     "text": [
      "Enter your number to be squared: 5\n",
      "25\n",
      "Enter number to be cubed: 5\n",
      "125\n"
     ]
    }
   ],
   "source": [
    "#Function to square and cube a number\n",
    "def square(number):\n",
    "    num_sqr = number ** 2\n",
    "    return num_sqr\n",
    "\n",
    "num = input(\"Enter your number to be squared: \")\n",
    "sqr_output = square(int(num))\n",
    "print(sqr_output)\n",
    "\n",
    "def cube(number):\n",
    "    num_cube = number ** 3\n",
    "    return num_cube\n",
    "\n",
    "num = int(input(\"Enter number to be cubed: \"))\n",
    "cube_num = cube(num)\n",
    "print(cube_num)\n"
   ]
  },
  {
   "cell_type": "code",
   "execution_count": null,
   "id": "0602b0d0",
   "metadata": {},
   "outputs": [
    {
     "name": "stdout",
     "output_type": "stream",
     "text": [
      "Enter your number to be cubed: 3\n",
      "27\n"
     ]
    }
   ],
   "source": [
    "#Function to cube a number\n",
    "def cube(number):\n",
    "    num_cube = number ** 3\n",
    "    return num_cube\n",
    "\n",
    "num = input(\"Enter your number to be cubed: \")\n",
    "cube_output = cube(int(num))\n",
    "print(cube_output)"
   ]
  },
  {
   "cell_type": "code",
   "execution_count": null,
   "id": "7289ee24",
   "metadata": {},
   "outputs": [
    {
     "name": "stdout",
     "output_type": "stream",
     "text": [
      "Enter a number: 5\n",
      "Enter second number: 8\n",
      "40\n"
     ]
    }
   ],
   "source": [
    "#function to multiply two numbers\n",
    "def multiply(num1,num2):\n",
    "    num_multi = num1 * num2\n",
    "    return num_multi\n",
    "\n",
    "num1 = input(\"Enter a number: \")\n",
    "num2 = input(\"Enter second number: \")\n",
    "\n",
    "multi_output = multiply(int(num1),int(num2))\n",
    "print(multi_output)"
   ]
  },
  {
   "cell_type": "code",
   "execution_count": null,
   "id": "f0499667",
   "metadata": {},
   "outputs": [
    {
     "name": "stdout",
     "output_type": "stream",
     "text": [
      "Enter degree in celsius: 37\n",
      "98.60000000000001\n",
      "Enter degree in farh: 72\n",
      "22.22222222222222\n"
     ]
    }
   ],
   "source": [
    "#function to convert celcius to fahrenheit\n",
    "def cel_to_farh(number):\n",
    "    farh = number * (9/5) + 32\n",
    "    return farh\n",
    "\n",
    "num = input(\"Enter degree in celsius: \")\n",
    "farh_output = cel_to_farh(int(num))\n",
    "print(farh_output, \"degrees fahrenheit\")\n",
    "\n",
    "def farh_to_cel(number):\n",
    "    cel = (number - 32) * (5/9) \n",
    "    return cel\n",
    "\n",
    "num = input(\"Enter degree in farh: \")\n",
    "cel_output = farh_to_cel(int(num))\n",
    "print(cel_output, \"degrees celsius\")"
   ]
  },
  {
   "cell_type": "code",
   "execution_count": null,
   "id": "8c03da81",
   "metadata": {},
   "outputs": [
    {
     "name": "stdout",
     "output_type": "stream",
     "text": [
      "n=  1\n",
      "n=  2\n",
      "n=  3\n",
      "n=  4\n",
      "n=  5\n",
      "n=  6\n",
      "loop terminated\n"
     ]
    }
   ],
   "source": [
    "#While loop \n",
    "n = 1\n",
    "while(n <= 6):\n",
    "    print(\"n= \",n)\n",
    "    n += 1\n",
    "print(\"loop terminated\")"
   ]
  },
  {
   "cell_type": "code",
   "execution_count": null,
   "id": "6dfb2e24",
   "metadata": {},
   "outputs": [
    {
     "name": "stdout",
     "output_type": "stream",
     "text": [
      "n=  2\n",
      "n=  4\n",
      "n=  6\n",
      "loop terminated\n"
     ]
    }
   ],
   "source": [
    "#for loop\n",
    "for n in range(2, 7, 2):\n",
    "    print(\"n= \",n)\n",
    "print(\"loop terminated\")"
   ]
  },
  {
   "cell_type": "code",
   "execution_count": null,
   "id": "1434eb7d",
   "metadata": {},
   "outputs": [
    {
     "name": "stdout",
     "output_type": "stream",
     "text": [
      "n= 1 and j= a\n",
      "n= 1 and j= b\n",
      "n= 1 and j= c\n",
      "n= 2 and j= a\n",
      "n= 2 and j= b\n",
      "n= 2 and j= c\n",
      "n= 3 and j= a\n",
      "n= 3 and j= b\n",
      "n= 3 and j= c\n"
     ]
    }
   ],
   "source": [
    "#For loop\n",
    "for n in range(1,4):\n",
    "    for j in [\"a\",\"b\",\"c\"]:\n",
    "        print(\"n=\", n, \"and j=\",j)"
   ]
  },
  {
   "cell_type": "code",
   "execution_count": null,
   "id": "05b184df",
   "metadata": {},
   "outputs": [
    {
     "name": "stdout",
     "output_type": "stream",
     "text": [
      "n= 2\n",
      "n= 3\n",
      "n= 4\n",
      "n= 5\n",
      "n= 6\n",
      "n= 7\n",
      "n= 8\n",
      "n= 9\n",
      "n= 10\n",
      "loop end\n"
     ]
    }
   ],
   "source": [
    "#while loop\n",
    "n= 2\n",
    "while(n < 11):\n",
    "    print(\"n=\",n)\n",
    "    n += 1\n",
    "print(\"loop end\")"
   ]
  },
  {
   "cell_type": "code",
   "execution_count": null,
   "id": "a06ee031",
   "metadata": {},
   "outputs": [
    {
     "name": "stdout",
     "output_type": "stream",
     "text": [
      "n= 2\n",
      "n= 3\n",
      "n= 4\n",
      "n= 5\n",
      "n= 6\n",
      "n= 7\n",
      "n= 8\n",
      "n= 9\n",
      "n= 10\n",
      "loop end\n"
     ]
    }
   ],
   "source": [
    "#while loop\n",
    "n= 2\n",
    "while(n < 11):\n",
    "    print(\"n=\",n).\n",
    "    \n",
    "    n += 1\n",
    "print(\"loop end\")"
   ]
  },
  {
   "cell_type": "code",
   "execution_count": null,
   "id": "ce1ef678",
   "metadata": {},
   "outputs": [
    {
     "name": "stdout",
     "output_type": "stream",
     "text": [
      "Enter the principal amount: 100\n",
      "Enter rate: 0.05\n",
      "Enter the time period: 2\n",
      "110.25\n"
     ]
    }
   ],
   "source": [
    "#Function that calculates compound interest\n",
    "def comp_intrst(principal,rate,time):\n",
    "    intrst_rtn = principal * (1 + rate)**time\n",
    "    return intrst_rtn\n",
    "\n",
    "principal = int(input(\"Enter the principal amount: \"))\n",
    "rate = float(input(\"Enter rate: \"))\n",
    "time = int(input(\"Enter the time period: \"))\n",
    "\n",
    "invest_output = comp_intrst(principal,rate,time)\n",
    "print(invest_output)"
   ]
  },
  {
   "cell_type": "code",
   "execution_count": null,
   "id": "45f25f03",
   "metadata": {},
   "outputs": [
    {
     "name": "stdout",
     "output_type": "stream",
     "text": [
      "Enter the principal amount: 5000000\n",
      "Enter rate: 0.15\n",
      "Enter the time period: 5\n",
      "year 1 : 5750000.0\n",
      "year 2 : 6612499.999999999\n",
      "year 3 : 7604374.999999999\n",
      "year 4 : 8745031.249999996\n",
      "year 5 : 10056785.937499996\n"
     ]
    }
   ],
   "source": [
    "#Function that calculates compound interest gained over nth period of time\n",
    "\n",
    "def comp_intrst(principal,rate,time):\n",
    "    intrst_rtn = principal * (1 + rate)**time\n",
    "    return intrst_rtn\n",
    "\n",
    "principal = int(input(\"Enter the principal amount: \"))\n",
    "rate = float(input(\"Enter rate: \"))\n",
    "time = int(input(\"Enter the time period: \"))\n",
    "time_period = time + 1\n",
    "n=1\n",
    "\n",
    "for n in range(1,time_period):\n",
    "    \n",
    "    invest_output = comp_intrst(principal,rate,n)\n",
    "    print(\"year\",n,\":\",invest_output )\n",
    "    n += 1\n",
    "\n"
   ]
  },
  {
   "cell_type": "code",
   "execution_count": null,
   "id": "980601f2",
   "metadata": {},
   "outputs": [
    {
     "name": "stdout",
     "output_type": "stream",
     "text": [
      "2\n",
      "3\n",
      "4\n",
      "5\n",
      "6\n",
      "7\n",
      "8\n",
      "9\n",
      "10\n"
     ]
    }
   ],
   "source": [
    "#for loop\n",
    "for n in range(2,11):\n",
    "    print(n)"
   ]
  },
  {
   "cell_type": "code",
   "execution_count": null,
   "id": "98120698",
   "metadata": {},
   "outputs": [
    {
     "name": "stdout",
     "output_type": "stream",
     "text": [
      "2\n",
      "3\n",
      "4\n",
      "5\n",
      "6\n",
      "7\n",
      "8\n",
      "9\n",
      "10\n"
     ]
    }
   ],
   "source": [
    "n=2\n",
    "while n < 11:\n",
    "    print(n)\n",
    "    n+=1"
   ]
  },
  {
   "cell_type": "code",
   "execution_count": null,
   "id": "fc435aa3",
   "metadata": {},
   "outputs": [
    {
     "name": "stdout",
     "output_type": "stream",
     "text": [
      "4\n",
      "4\n",
      "4\n"
     ]
    }
   ],
   "source": [
    "n=1\n",
    "x=2\n",
    "while n < 4:\n",
    "    print(x*2)\n",
    "    \n",
    "    n+=1"
   ]
  },
  {
   "cell_type": "code",
   "execution_count": null,
   "id": "a444bb9d",
   "metadata": {},
   "outputs": [
    {
     "name": "stdout",
     "output_type": "stream",
     "text": [
      "4\n",
      "8\n",
      "16\n"
     ]
    }
   ],
   "source": [
    "def doubles(num):\n",
    "    for i in range(3):\n",
    "        num = num * 2\n",
    "        print(num)\n",
    "doubles(2)"
   ]
  },
  {
   "cell_type": "code",
   "execution_count": null,
   "id": "25a9628b",
   "metadata": {},
   "outputs": [
    {
     "name": "stdout",
     "output_type": "stream",
     "text": [
      "6\n",
      "12\n",
      "24\n"
     ]
    }
   ],
   "source": [
    "doubles(3)"
   ]
  },
  {
   "cell_type": "code",
   "execution_count": null,
   "id": "16359b0d",
   "metadata": {},
   "outputs": [
    {
     "name": "stdout",
     "output_type": "stream",
     "text": [
      "4\n",
      "8\n",
      "16\n"
     ]
    }
   ],
   "source": [
    "def triple_double(num):\n",
    "    count = 0\n",
    "    while count < 3:\n",
    "        num *= 2\n",
    "        print(num)\n",
    "        count += 1\n",
    "triple_double(2)"
   ]
  },
  {
   "cell_type": "code",
   "execution_count": 5,
   "id": "86f9a43a",
   "metadata": {},
   "outputs": [
    {
     "name": "stdout",
     "output_type": "stream",
     "text": [
      "4\n",
      "8\n",
      "16\n"
     ]
    }
   ],
   "source": [
    "count = 0\n",
    "num = int(input(\"Enter a number: \"))\n",
    "while count < 3:\n",
    "    num *= 2\n",
    "    print(num)\n",
    "    count += 1"
   ]
  },
  {
   "cell_type": "code",
   "execution_count": 3,
   "id": "72f8f1b2",
   "metadata": {},
   "outputs": [
    {
     "name": "stdout",
     "output_type": "stream",
     "text": [
      "break\n",
      "break\n",
      "break\n",
      "break\n",
      "break\n",
      "break\n",
      "break\n",
      "break\n",
      "break\n",
      "break\n",
      "break\n",
      "break\n",
      "break\n",
      "break\n",
      "break\n",
      "break\n",
      "break!!\n",
      "outside the loop\n"
     ]
    }
   ],
   "source": [
    "i = 1\n",
    "n = 10\n",
    "while True:\n",
    "    if i % 17 == 0:\n",
    "        print(\"break!!\")\n",
    "        break\n",
    "    else:\n",
    "        i += 1\n",
    "        print(\"break\")\n",
    "        continue\n",
    "print(\"outside the loop\")"
   ]
  },
  {
   "cell_type": "code",
   "execution_count": 2,
   "id": "f9df8e38",
   "metadata": {},
   "outputs": [
    {
     "name": "stdout",
     "output_type": "stream",
     "text": [
      "0\n",
      "1\n",
      "2\n",
      "3\n",
      "4\n",
      "5\n",
      "6\n",
      "7\n",
      "8\n",
      "9\n",
      "[0, 1, 8, 27, 64, 125, 216, 343, 512, 729]\n"
     ]
    }
   ],
   "source": [
    "list = []\n",
    "for i in range(10):\n",
    "    print(i)\n",
    "    list.append(i**3)\n",
    "print(list)"
   ]
  }
 ],
 "metadata": {
  "kernelspec": {
   "display_name": "Python 3 (ipykernel)",
   "language": "python",
   "name": "python3"
  },
  "language_info": {
   "codemirror_mode": {
    "name": "ipython",
    "version": 3
   },
   "file_extension": ".py",
   "mimetype": "text/x-python",
   "name": "python",
   "nbconvert_exporter": "python",
   "pygments_lexer": "ipython3",
   "version": "3.9.13"
  }
 },
 "nbformat": 4,
 "nbformat_minor": 5
}
